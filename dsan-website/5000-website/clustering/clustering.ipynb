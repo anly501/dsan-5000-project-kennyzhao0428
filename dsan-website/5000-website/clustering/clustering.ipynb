{
 "cells": [
  {
   "cell_type": "markdown",
   "metadata": {},
   "source": [
    "---\n",
    "title: \"Clustering\"\n",
    "---\n"
   ]
  },
  {
   "cell_type": "markdown",
   "metadata": {},
   "source": [
    "## Theory:\n",
    "\n",
    "# K-Means Clustering:\n",
    "\n",
    "**Overview**: Describe K-means as a method that partitions data into K distinct, non-overlapping subgroups. It does this by minimizing the distance between data points and the centroid (the center point) of each cluster.\n",
    "\n",
    "the K-Means clustering algorithm has consistently been an invaluable tool. The beauty of this algorithm lies in its simplicity and efficacy in breaking down complex datasets into comprehensible and analyzable segments.\n",
    "\n",
    "Imagine you're faced with a scatter of data points that seem random at first glance. K-Means acts like a seasoned conductor, swiftly identifying the inherent structure within these points and grouping them into meaningful clusters. The process is akin to solving a puzzle; initially, you might have little idea about the overall picture, but by progressively grouping similar pieces together, the complete image gradually becomes clear.\n",
    "\n",
    "The essence of K-Means lies in how it selects the appropriate cluster centers and determines the number of clusters. This selection process is somewhat like finding the best vantage point from which you can most clearly discern the overall layout of the data. Utilizing the Elbow Method to determine the number of clusters is a scientific and intuitive approach, helping us strike a balance between complexity and interpretability.\n",
    "\n",
    "Of course, I'm acutely aware of the limitations of K-Means in my practice. For instance, it is sensitive to outliers, and it requires us to preset the number of clusters. Despite these constraints, it remains a potent tool in many scenarios, especially when conducting a quick preliminary analysis of large-scale data.\n",
    "\n",
    "# DBSCAN (Density-Based Spatial Clustering of Applications with Noise):\n",
    "\n",
    "**Overview**: DBSCAN (Density-Based Spatial Clustering of Applications with Noise)\n",
    "I've often turned to DBSCAN for its unique approach to clustering. Unlike many other algorithms, DBSCAN excels in discovering clusters with irregular shapes and sizes, which is often the case in real-world data.\n",
    "\n",
    "DBSCAN is brilliant at uncovering hidden structures in a seemingly chaotic environment. It doesn't need to be told how many clusters to look for; instead, it discerns clusters based on the density of data points. This feature is particularly useful when you're dealing with complex datasets where predefined assumptions don't hold.\n",
    "\n",
    "The algorithm uses two parameters: Epsilon, which sets the neighborhood size, and MinPts, the minimum number of points required to form a dense region. I've always appreciated how DBSCAN can adeptly separate core points of high-density areas from the more isolated, noise-like points. This ability makes it especially valuable in tasks like anomaly detection or identifying areas of high concentration in spatial data.\n",
    "\n",
    "# Hierarchical Clustering:\n",
    "\n",
    "**Overview**: Hierarchical Clustering\n",
    "Unlike the 'flat' clustering of K-Means or DBSCAN, it creates a tree of clusters, offering a multi-level view of the data.\n",
    "\n",
    "This method is akin to building a family tree, where each data point starts as its own entity and gradually merges with others to form increasingly larger groups. What's fascinating is how this process can be either bottom-up (agglomerative) or top-down (divisive), offering flexibility in how we approach the data.\n",
    "\n",
    "The absence of the need to predefine the number of clusters is another aspect I find quite liberating. It allows a more exploratory approach to understanding data structures. The dendrogram, a tree-like diagram used in hierarchical clustering, provides a visual representation of this hierarchy, making it easier to interpret and decide on the optimal cluster cut.\n",
    "\n",
    "I've found hierarchical clustering particularly useful in domains where the relationships between data points are as important as the groupings themselves, such as in genetics or when organizing complex libraries."
   ]
  },
  {
   "cell_type": "code",
   "execution_count": 10,
   "metadata": {},
   "outputs": [
    {
     "name": "stdout",
     "output_type": "stream",
     "text": [
      "    Sex/Age group  Cost  Inadequete public charging facilities  \\\n",
      "0           Total  63.3                                   29.3   \n",
      "1           18-29  56.6                                   18.4   \n",
      "2           30-44  68.4                                   35.1   \n",
      "3           45-59  61.2                                   35.7   \n",
      "4           60-74  69.2                                   34.8   \n",
      "5             75+  60.0                                   23.9   \n",
      "6     Total males  63.7                                   31.0   \n",
      "7           18-29  60.3                                   20.2   \n",
      "8           30-44  67.5                                   29.4   \n",
      "9           45-59  67.8                                   36.2   \n",
      "10          60-74  60.6                                   27.5   \n",
      "11            75+  42.7                                   14.4   \n",
      "12  Total females  62.9                                   27.8   \n",
      "\n",
      "    No/limited access to home charging  Limited range available  \\\n",
      "0                                 21.1                     19.3   \n",
      "1                                 16.2                      6.6   \n",
      "2                                 29.0                     26.7   \n",
      "3                                 21.6                     25.3   \n",
      "4                                 23.8                     19.9   \n",
      "5                                 18.1                     12.6   \n",
      "6                                 22.8                     20.0   \n",
      "7                                 11.8                     10.0   \n",
      "8                                 26.1                     24.7   \n",
      "9                                 24.1                     23.4   \n",
      "10                                15.3                     16.0   \n",
      "11                                 7.7                      8.1   \n",
      "12                                19.4                     18.6   \n",
      "\n",
      "    Don't drive/ own a car  Resale value of EV  Reliability/ safety concerns  \\\n",
      "0                      4.4                 4.0                           5.4   \n",
      "1                      8.2                 4.7                           1.2   \n",
      "2                      2.3                 5.6                           6.3   \n",
      "3                      1.3                 5.3                           8.4   \n",
      "4                      2.8                 4.4                           5.6   \n",
      "5                      4.0                 3.4                           5.1   \n",
      "6                      5.8                 3.4                           5.4   \n",
      "7                     12.1                 1.9                           3.4   \n",
      "8                      2.0                 2.7                           3.8   \n",
      "9                      1.4                 4.6                           5.3   \n",
      "10                     6.4                 2.9                           5.0   \n",
      "11                    12.4                 2.3                           4.6   \n",
      "12                     4.3                 5.4                           3.4   \n",
      "\n",
      "    No need/ don't know enough  Not changing for a while  \\\n",
      "0                          4.5                       1.9   \n",
      "1                          0.0                       3.6   \n",
      "2                          4.3                       1.1   \n",
      "3                          3.7                       1.4   \n",
      "4                          6.5                       0.8   \n",
      "5                         10.5                       1.4   \n",
      "6                          4.6                       1.6   \n",
      "7                          1.2                       7.2   \n",
      "8                          2.8                       1.0   \n",
      "9                          3.0                       1.3   \n",
      "10                         9.6                       1.0   \n",
      "11                        11.0                       0.3   \n",
      "12                         5.8                       2.2   \n",
      "\n",
      "    Not available at time of last purchase  Other  Gender  \n",
      "0                                      1.2    9.8     NaN  \n",
      "1                                      2.1   10.8    Male  \n",
      "2                                      0.0    5.0    Male  \n",
      "3                                      0.5    8.0    Male  \n",
      "4                                      0.7    6.0    Male  \n",
      "5                                      2.4    9.1    Male  \n",
      "6                                      1.7    9.0    Male  \n",
      "7                                      2.2    8.5  Female  \n",
      "8                                      0.6    4.8  Female  \n",
      "9                                      1.6    9.2  Female  \n",
      "10                                     2.5    9.3  Female  \n",
      "11                                     1.1   10.2  Female  \n",
      "12                                     2.1   11.1  Female  \n"
     ]
    }
   ],
   "source": [
    "import pandas as pd\n",
    "import numpy as np\n",
    "import matplotlib.pyplot as plt\n",
    "import seaborn as sns\n",
    "from sklearn.cluster import KMeans, DBSCAN\n",
    "from sklearn.preprocessing import StandardScaler, OneHotEncoder\n",
    "from sklearn.metrics import silhouette_score\n",
    "from scipy.cluster.hierarchy import dendrogram, linkage\n",
    "\n",
    "df = pd.read_csv('/Users/kenny/Desktop/dsan-5000-project-kennyzhao0428/data/01-modified-data/clean26.csv')\n",
    "print(df)\n"
   ]
  },
  {
   "cell_type": "code",
   "execution_count": 13,
   "metadata": {},
   "outputs": [
    {
     "name": "stderr",
     "output_type": "stream",
     "text": [
      "/Users/kenny/anaconda3/lib/python3.11/site-packages/sklearn/preprocessing/_encoders.py:972: FutureWarning: `sparse` was renamed to `sparse_output` in version 1.2 and will be removed in 1.4. `sparse_output` is ignored unless you leave `sparse` to its default value.\n",
      "  warnings.warn(\n"
     ]
    },
    {
     "data": {
      "image/png": "[encoded data removed]",
      "text/plain": [
       "<Figure size 640x480 with 1 Axes>"
      ]
     },
     "metadata": {},
     "output_type": "display_data"
    }
   ],
   "source": [
    "\n",
    "df = pd.read_csv('/Users/kenny/Desktop/dsan-5000-project-kennyzhao0428/data/01-modified-data/clean26.csv')\n",
    "\n",
    "\n",
    "encoder = OneHotEncoder(sparse=False)\n",
    "encoded_features = pd.DataFrame(encoder.fit_transform(df[['Sex/Age group', 'Gender']]))\n",
    "encoded_features.columns = encoder.get_feature_names_out(['Sex/Age group', 'Gender'])\n",
    "\n",
    "\n",
    "df = df.drop(['Sex/Age group', 'Gender'], axis=1)\n",
    "df = pd.concat([df, encoded_features], axis=1)\n",
    "\n",
    "# stand\n",
    "scaler = StandardScaler()\n",
    "numeric_features = df.select_dtypes(include=['float64', 'int64']).columns\n",
    "df[numeric_features] = scaler.fit_transform(df[numeric_features])\n",
    "\n",
    "# kmean\n",
    "wcss = []\n",
    "for i in range(1, 11):\n",
    "    kmeans = KMeans(n_clusters=i, init='k-means++', max_iter=300, n_init=10, random_state=0)\n",
    "    kmeans.fit(df)\n",
    "    wcss.append(kmeans.inertia_)\n",
    "\n",
    "plt.plot(range(1, 11), wcss)\n",
    "plt.title('Elbow Method')\n",
    "plt.xlabel('Number of clusters')\n",
    "plt.ylabel('WCSS')\n",
    "plt.show()\n"
   ]
  },
  {
   "cell_type": "markdown",
   "metadata": {},
   "source": [
    "# Results\n",
    "\n",
    "The elbow method chart you've provided is a visual tool used to determine the optimal number of clusters for K-means clustering analysis. The chart shows a plot of the Within-Cluster Sum of Squares (WCSS) against the number of clusters. WCSS is a measure of clustering effectiveness that sums the squared distances of each point from its cluster center. Ideally, as the number of clusters increases, the WCSS should decrease because points are more closely grouped around their centers.\n",
    "\n",
    "From your chart, there is a noticeable decrease in WCSS as the number of clusters increases, but the rate of decrease slows down, forming an \"elbow.\" This elbow usually suggests a good choice for the number of clusters because it represents a balance between performance (tighter clusters) and complexity (more clusters).\n",
    "\n",
    "In your chart, the elbow appears to be around 4 or 5 clusters. This implies that for the electric vehicle concerns data you mentioned earlier, choosing 4 or 5 clusters might be optimal, offering a balance between performance and complexity.\n",
    "\n",
    "* The analysis to add to the conclusion section might be:\n",
    "\n",
    "The K-means clustering analysis suggests that the data indicates the presence of 4 or 5 distinct patterns of concerns related to age, gender, and specific apprehensions about electric vehicles.\n",
    "\n",
    "This finding underscores the importance of considering different market segments in electric vehicle promotion strategies to address potential consumers' concerns more precisely.\n",
    "\n",
    "Furthermore, the elbow method analysis also suggests that while further segmentation of the market according to data is possible, over-segmentation may not yield additional insights. Therefore, focusing on four to five primary groups would be an effective and efficient strategy."
   ]
  },
  {
   "cell_type": "markdown",
   "metadata": {},
   "source": [
    "This table is about people's concerns about certain aspects of electric vehicles. Columns include different age and gender groups, cost, dissatisfaction with public charging facilities, lack of charging at home, limitations of EV range, perceived EV maintenance costs, and other issues.\n",
    "\n",
    "# Conclusions drawn from K-means cluster analysis include:\n",
    "\n",
    "Distribution of concerns among different groups: Different age and gender groups have different concerns about electric vehicles. For example, young people may be less concerned about the limitations of battery life, while middle-aged groups may be more concerned about charging facilities and battery life.\n",
    "\n",
    "* Key concerns: Cost and charging facilities are likely to be major barriers for most people when choosing an electric vehicle, especially among older age groups.\n",
    "\n",
    "* Gender differences: Men and women may have differences in their concerns about electric vehicles. For example, the problem of being unable to charge at home may be higher among men.\n",
    "\n",
    "Conclusion, highlights these key findings and explores how they impact practical situations. For example, insufficient public charging facilities are a common problem affecting all age groups and may suggest that policymakers and automakers need to increase their efforts in building more charging stations. The problem of range limitations is less pronounced among younger people, perhaps because their daily driving distances are shorter, or they are more willing to accept the limitations of new technologies.\n",
    "\n",
    "In addition, these conclusions also have a direct impact on marketing strategies, which may prompt electric vehicle manufacturers to develop different marketing strategies for different gender and age groups to address the specific concerns of potential buyers.\n",
    "\n",
    "This non-technical summary is intended to provide the general reader with insights into the current state of the electric vehicle market and its future trends. It could also help spread the word about the benefits of electric vehicles while pointing to barriers that currently stand in the way of wider adoption."
   ]
  }
 ],
 "metadata": {
  "kernelspec": {
   "display_name": "base",
   "language": "python",
   "name": "python3"
  },
  "language_info": {
   "codemirror_mode": {
    "name": "ipython",
    "version": 3
   },
   "file_extension": ".py",
   "mimetype": "text/x-python",
   "name": "python",
   "nbconvert_exporter": "python",
   "pygments_lexer": "ipython3",
   "version": "3.11.5"
  }
 },
 "nbformat": 4,
 "nbformat_minor": 2
}
